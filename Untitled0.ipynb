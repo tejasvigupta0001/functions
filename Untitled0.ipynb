{
  "nbformat": 4,
  "nbformat_minor": 0,
  "metadata": {
    "colab": {
      "provenance": []
    },
    "kernelspec": {
      "name": "python3",
      "display_name": "Python 3"
    },
    "language_info": {
      "name": "python"
    }
  },
  "cells": [
    {
      "cell_type": "code",
      "execution_count": null,
      "metadata": {
        "id": "_d9Li0xXqOJ-"
      },
      "outputs": [],
      "source": []
    },
    {
      "cell_type": "markdown",
      "source": [
        "#Functions"
      ],
      "metadata": {
        "id": "gUU-GBbnqR8V"
      }
    },
    {
      "cell_type": "code",
      "source": [],
      "metadata": {
        "id": "bWVuTqr0qWhq"
      },
      "execution_count": null,
      "outputs": []
    },
    {
      "cell_type": "markdown",
      "source": [
        "1. What is the difference between functions and methods in Python?\n",
        "   >A function is a block of reusable code that performs a specific task and can be called independently. It is defined using the def keyword followed by the function name and parentheses."
      ],
      "metadata": {
        "id": "v7eE2YzCqX03"
      }
    },
    {
      "cell_type": "markdown",
      "source": [
        "2. second question"
      ],
      "metadata": {
        "id": "PjiMLatQr_as"
      }
    },
    {
      "cell_type": "code",
      "source": [
        "# questions\n",
        "\n",
        "...\n",
        "this answer\n",
        "..."
      ],
      "metadata": {
        "colab": {
          "base_uri": "https://localhost:8080/",
          "height": 106
        },
        "id": "5Q0D062-r9Nq",
        "outputId": "0ebc3970-2769-46a3-c0d5-aed1e167e929"
      },
      "execution_count": 1,
      "outputs": [
        {
          "output_type": "error",
          "ename": "SyntaxError",
          "evalue": "invalid syntax (<ipython-input-1-73c17827d2d3>, line 4)",
          "traceback": [
            "\u001b[0;36m  File \u001b[0;32m\"<ipython-input-1-73c17827d2d3>\"\u001b[0;36m, line \u001b[0;32m4\u001b[0m\n\u001b[0;31m    this answer\u001b[0m\n\u001b[0m         ^\u001b[0m\n\u001b[0;31mSyntaxError\u001b[0m\u001b[0;31m:\u001b[0m invalid syntax\n"
          ]
        }
      ]
    },
    {
      "cell_type": "code",
      "source": [
        "#questions\n",
        "...\n",
        "answe"
      ],
      "metadata": {
        "colab": {
          "base_uri": "https://localhost:8080/",
          "height": 176
        },
        "id": "BZnqY2EVsux6",
        "outputId": "0a54418a-f452-4a4f-fcb4-9703963e11db"
      },
      "execution_count": 2,
      "outputs": [
        {
          "output_type": "error",
          "ename": "NameError",
          "evalue": "name 'answe' is not defined",
          "traceback": [
            "\u001b[0;31m---------------------------------------------------------------------------\u001b[0m",
            "\u001b[0;31mNameError\u001b[0m                                 Traceback (most recent call last)",
            "\u001b[0;32m<ipython-input-2-31aef879b3c8>\u001b[0m in \u001b[0;36m<cell line: 0>\u001b[0;34m()\u001b[0m\n\u001b[1;32m      1\u001b[0m \u001b[0;31m#questions\u001b[0m\u001b[0;34m\u001b[0m\u001b[0;34m\u001b[0m\u001b[0m\n\u001b[1;32m      2\u001b[0m \u001b[0;34m\u001b[0m\u001b[0m\n\u001b[0;32m----> 3\u001b[0;31m \u001b[0manswe\u001b[0m\u001b[0;34m\u001b[0m\u001b[0;34m\u001b[0m\u001b[0m\n\u001b[0m",
            "\u001b[0;31mNameError\u001b[0m: name 'answe' is not defined"
          ]
        }
      ]
    },
    {
      "cell_type": "code",
      "source": [],
      "metadata": {
        "id": "B_ZSd9_ds96Z"
      },
      "execution_count": null,
      "outputs": []
    },
    {
      "cell_type": "markdown",
      "source": [
        "1. What is the difference between functions and methods in Python?\n",
        "   -nsdhsoisannosihaioswl"
      ],
      "metadata": {
        "id": "ICLAJtHBtbgY"
      }
    },
    {
      "cell_type": "markdown",
      "source": [],
      "metadata": {
        "id": "8PRTwDhDtRj5"
      }
    }
  ]
}